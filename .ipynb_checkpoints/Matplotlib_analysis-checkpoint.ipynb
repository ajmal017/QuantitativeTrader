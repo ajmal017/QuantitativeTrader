{
 "cells": [
  {
   "cell_type": "code",
   "execution_count": 1,
   "metadata": {},
   "outputs": [],
   "source": [
    "import pandas as pd\n",
    "import seaborn as sns\n",
    "import matplotlib.pyplot as plt\n",
    "%matplotlib inline"
   ]
  },
  {
   "cell_type": "code",
   "execution_count": 48,
   "metadata": {},
   "outputs": [],
   "source": [
    "df = pd.read_csv('./Data/TSLA_intraday_trading.csv')"
   ]
  },
  {
   "cell_type": "code",
   "execution_count": 49,
   "metadata": {
    "scrolled": true
   },
   "outputs": [
    {
     "data": {
      "text/html": [
       "<div>\n",
       "<style scoped>\n",
       "    .dataframe tbody tr th:only-of-type {\n",
       "        vertical-align: middle;\n",
       "    }\n",
       "\n",
       "    .dataframe tbody tr th {\n",
       "        vertical-align: top;\n",
       "    }\n",
       "\n",
       "    .dataframe thead th {\n",
       "        text-align: right;\n",
       "    }\n",
       "</style>\n",
       "<table border=\"1\" class=\"dataframe\">\n",
       "  <thead>\n",
       "    <tr style=\"text-align: right;\">\n",
       "      <th></th>\n",
       "      <th>2019-11-20 00:00:00</th>\n",
       "      <th>360</th>\n",
       "      <th>361.2</th>\n",
       "      <th>349.57</th>\n",
       "      <th>352.22</th>\n",
       "      <th>6733965.0</th>\n",
       "    </tr>\n",
       "  </thead>\n",
       "  <tbody>\n",
       "    <tr>\n",
       "      <td>0</td>\n",
       "      <td>2019-11-21 00:00:00</td>\n",
       "      <td>354.51</td>\n",
       "      <td>360.84</td>\n",
       "      <td>354.0039</td>\n",
       "      <td>354.83</td>\n",
       "      <td>6110013.0</td>\n",
       "    </tr>\n",
       "    <tr>\n",
       "      <td>1</td>\n",
       "      <td>2019-11-22 00:00:00</td>\n",
       "      <td>340.16</td>\n",
       "      <td>341.00</td>\n",
       "      <td>330.0000</td>\n",
       "      <td>333.04</td>\n",
       "      <td>16870642.0</td>\n",
       "    </tr>\n",
       "    <tr>\n",
       "      <td>2</td>\n",
       "      <td>2019-11-25 00:00:00</td>\n",
       "      <td>344.32</td>\n",
       "      <td>344.57</td>\n",
       "      <td>334.4600</td>\n",
       "      <td>336.34</td>\n",
       "      <td>12345765.0</td>\n",
       "    </tr>\n",
       "    <tr>\n",
       "      <td>3</td>\n",
       "      <td>2019-11-26 00:00:00</td>\n",
       "      <td>335.27</td>\n",
       "      <td>335.50</td>\n",
       "      <td>327.1000</td>\n",
       "      <td>328.92</td>\n",
       "      <td>7956239.0</td>\n",
       "    </tr>\n",
       "    <tr>\n",
       "      <td>4</td>\n",
       "      <td>2019-11-27 00:00:00</td>\n",
       "      <td>331.12</td>\n",
       "      <td>333.93</td>\n",
       "      <td>328.5700</td>\n",
       "      <td>331.29</td>\n",
       "      <td>5557209.0</td>\n",
       "    </tr>\n",
       "  </tbody>\n",
       "</table>\n",
       "</div>"
      ],
      "text/plain": [
       "   2019-11-20 00:00:00     360   361.2    349.57  352.22   6733965.0\n",
       "0  2019-11-21 00:00:00  354.51  360.84  354.0039  354.83   6110013.0\n",
       "1  2019-11-22 00:00:00  340.16  341.00  330.0000  333.04  16870642.0\n",
       "2  2019-11-25 00:00:00  344.32  344.57  334.4600  336.34  12345765.0\n",
       "3  2019-11-26 00:00:00  335.27  335.50  327.1000  328.92   7956239.0\n",
       "4  2019-11-27 00:00:00  331.12  333.93  328.5700  331.29   5557209.0"
      ]
     },
     "execution_count": 49,
     "metadata": {},
     "output_type": "execute_result"
    }
   ],
   "source": [
    "df.head()"
   ]
  },
  {
   "cell_type": "code",
   "execution_count": 50,
   "metadata": {},
   "outputs": [],
   "source": [
    "df.columns = [col.strip() for col in df.columns]"
   ]
  },
  {
   "cell_type": "code",
   "execution_count": 51,
   "metadata": {},
   "outputs": [],
   "source": [
    "df.columns = ['timestamp','open','high','low','close','volume']"
   ]
  },
  {
   "cell_type": "code",
   "execution_count": 52,
   "metadata": {},
   "outputs": [],
   "source": [
    "_open = df['open']\n",
    "time = df['timestamp']\n",
    "df['std_oc'] = df['high'] - df['low']\n",
    "std_oc = df['std_oc']\n",
    "high = df['high']"
   ]
  },
  {
   "cell_type": "code",
   "execution_count": 53,
   "metadata": {},
   "outputs": [
    {
     "data": {
      "text/html": [
       "<div>\n",
       "<style scoped>\n",
       "    .dataframe tbody tr th:only-of-type {\n",
       "        vertical-align: middle;\n",
       "    }\n",
       "\n",
       "    .dataframe tbody tr th {\n",
       "        vertical-align: top;\n",
       "    }\n",
       "\n",
       "    .dataframe thead th {\n",
       "        text-align: right;\n",
       "    }\n",
       "</style>\n",
       "<table border=\"1\" class=\"dataframe\">\n",
       "  <thead>\n",
       "    <tr style=\"text-align: right;\">\n",
       "      <th></th>\n",
       "      <th>open</th>\n",
       "      <th>high</th>\n",
       "      <th>low</th>\n",
       "      <th>close</th>\n",
       "      <th>volume</th>\n",
       "      <th>std_oc</th>\n",
       "    </tr>\n",
       "  </thead>\n",
       "  <tbody>\n",
       "    <tr>\n",
       "      <td>count</td>\n",
       "      <td>108.000000</td>\n",
       "      <td>108.000000</td>\n",
       "      <td>108.000000</td>\n",
       "      <td>108.000000</td>\n",
       "      <td>1.080000e+02</td>\n",
       "      <td>108.000000</td>\n",
       "    </tr>\n",
       "    <tr>\n",
       "      <td>mean</td>\n",
       "      <td>562.244183</td>\n",
       "      <td>581.240058</td>\n",
       "      <td>544.875668</td>\n",
       "      <td>563.450833</td>\n",
       "      <td>2.037412e+07</td>\n",
       "      <td>36.364391</td>\n",
       "    </tr>\n",
       "    <tr>\n",
       "      <td>std</td>\n",
       "      <td>167.064510</td>\n",
       "      <td>174.711470</td>\n",
       "      <td>158.462454</td>\n",
       "      <td>166.496518</td>\n",
       "      <td>1.296118e+07</td>\n",
       "      <td>28.434955</td>\n",
       "    </tr>\n",
       "    <tr>\n",
       "      <td>min</td>\n",
       "      <td>329.400000</td>\n",
       "      <td>331.260000</td>\n",
       "      <td>327.100000</td>\n",
       "      <td>328.920000</td>\n",
       "      <td>2.465629e+06</td>\n",
       "      <td>3.760000</td>\n",
       "    </tr>\n",
       "    <tr>\n",
       "      <td>25%</td>\n",
       "      <td>427.057500</td>\n",
       "      <td>432.783925</td>\n",
       "      <td>410.375000</td>\n",
       "      <td>427.612500</td>\n",
       "      <td>1.253619e+07</td>\n",
       "      <td>14.183750</td>\n",
       "    </tr>\n",
       "    <tr>\n",
       "      <td>50%</td>\n",
       "      <td>543.122500</td>\n",
       "      <td>552.790000</td>\n",
       "      <td>514.517650</td>\n",
       "      <td>538.585000</td>\n",
       "      <td>1.732966e+07</td>\n",
       "      <td>27.660000</td>\n",
       "    </tr>\n",
       "    <tr>\n",
       "      <td>75%</td>\n",
       "      <td>712.680000</td>\n",
       "      <td>744.205000</td>\n",
       "      <td>689.640000</td>\n",
       "      <td>726.320000</td>\n",
       "      <td>2.485896e+07</td>\n",
       "      <td>48.265000</td>\n",
       "    </tr>\n",
       "    <tr>\n",
       "      <td>max</td>\n",
       "      <td>923.500000</td>\n",
       "      <td>968.989900</td>\n",
       "      <td>901.020000</td>\n",
       "      <td>917.420000</td>\n",
       "      <td>6.189666e+07</td>\n",
       "      <td>141.869400</td>\n",
       "    </tr>\n",
       "  </tbody>\n",
       "</table>\n",
       "</div>"
      ],
      "text/plain": [
       "             open        high         low       close        volume  \\\n",
       "count  108.000000  108.000000  108.000000  108.000000  1.080000e+02   \n",
       "mean   562.244183  581.240058  544.875668  563.450833  2.037412e+07   \n",
       "std    167.064510  174.711470  158.462454  166.496518  1.296118e+07   \n",
       "min    329.400000  331.260000  327.100000  328.920000  2.465629e+06   \n",
       "25%    427.057500  432.783925  410.375000  427.612500  1.253619e+07   \n",
       "50%    543.122500  552.790000  514.517650  538.585000  1.732966e+07   \n",
       "75%    712.680000  744.205000  689.640000  726.320000  2.485896e+07   \n",
       "max    923.500000  968.989900  901.020000  917.420000  6.189666e+07   \n",
       "\n",
       "           std_oc  \n",
       "count  108.000000  \n",
       "mean    36.364391  \n",
       "std     28.434955  \n",
       "min      3.760000  \n",
       "25%     14.183750  \n",
       "50%     27.660000  \n",
       "75%     48.265000  \n",
       "max    141.869400  "
      ]
     },
     "execution_count": 53,
     "metadata": {},
     "output_type": "execute_result"
    }
   ],
   "source": [
    "df.describe()"
   ]
  },
  {
   "cell_type": "code",
   "execution_count": 54,
   "metadata": {},
   "outputs": [
    {
     "data": {
      "text/plain": [
       "[<matplotlib.lines.Line2D at 0x128664290>]"
      ]
     },
     "execution_count": 54,
     "metadata": {},
     "output_type": "execute_result"
    },
    {
     "data": {
      "image/png": "[encoded data removed]",
      "text/plain": [
       "<Figure size 432x288 with 2 Axes>"
      ]
     },
     "metadata": {
      "needs_background": "light"
     },
     "output_type": "display_data"
    }
   ],
   "source": [
    "\n",
    "fig, axs = plt.subplots(2)\n",
    "fig.suptitle('TSLA, Open and STD ')\n",
    "axs[0].plot(time, high)\n",
    "axs[1].plot(time, std_oc)"
   ]
  },
  {
   "cell_type": "code",
   "execution_count": null,
   "metadata": {},
   "outputs": [],
   "source": []
  },
  {
   "cell_type": "code",
   "execution_count": null,
   "metadata": {},
   "outputs": [],
   "source": []
  }
 ],
 "metadata": {
  "kernelspec": {
   "display_name": "Python 3",
   "language": "python",
   "name": "python3"
  },
  "language_info": {
   "codemirror_mode": {
    "name": "ipython",
    "version": 3
   },
   "file_extension": ".py",
   "mimetype": "text/x-python",
   "name": "python",
   "nbconvert_exporter": "python",
   "pygments_lexer": "ipython3",
   "version": "3.7.4"
  }
 },
 "nbformat": 4,
 "nbformat_minor": 2
}
